{
 "cells": [
  {
   "cell_type": "code",
   "execution_count": 1,
   "id": "bbb1f696-6fff-4506-93ff-4b5af919d5a8",
   "metadata": {},
   "outputs": [],
   "source": [
    "from itertools import count\n",
    "import heapq\n",
    "class State:\n",
    "    def __init__(self, row, col, grid):\n",
    "        self.row = row\n",
    "        self.col = col\n",
    "        self.grid = grid\n",
    "        self.n = len(grid)\n",
    "\n",
    "    def goalTest(self):\n",
    "        return self.row == self.n - 1 and self.col == self.n - 1\n",
    "\n",
    "    def moveGen(self):\n",
    "        directions = [(-1, 0), (1, 0), (0, -1), (0, 1),\n",
    "                      (1, 1), (-1, -1), (1, -1), (-1, 1)]\n",
    "        children = []\n",
    "        for dr, dc in directions:\n",
    "            new_row, new_col = self.row + dr, self.col + dc\n",
    "            if 0 <= new_row < self.n and 0 <= new_col < self.n:\n",
    "                if self.grid[new_row][new_col] == 0:\n",
    "                    children.append(State(new_row, new_col, self.grid))\n",
    "        return children\n",
    "\n",
    "    def __eq__(self, other):\n",
    "        return self.row == other.row and self.col == other.col\n",
    "\n",
    "    def __hash__(self):\n",
    "        return hash((self.row, self.col))\n",
    "\n",
    "    def __repr__(self):\n",
    "        return f\"({self.row},{self.col})\"\n"
   ]
  },
  {
   "cell_type": "code",
   "execution_count": 2,
   "id": "16815cef-26b0-493f-a099-0eabc24873bc",
   "metadata": {},
   "outputs": [],
   "source": [
    "def heuristic(state):\n",
    "    return abs(state.n-1-state.row ) + abs(state.n-1 - state.col)\n",
    "\n",
    "def euclidean(state):\n",
    "    return math.sqrt((state.row - state.n-1)**2 + (state.col - state.n-1)**2)\n"
   ]
  },
  {
   "cell_type": "code",
   "execution_count": 3,
   "id": "530f4bc4-3bc3-4909-b8b7-90b939ee099f",
   "metadata": {},
   "outputs": [],
   "source": [
    "def reconstruct_path(parent, current):\n",
    "    path = []\n",
    "    while current is not None:\n",
    "        path.append(current)\n",
    "        current = parent[current]\n",
    "    return list(reversed(path))\n"
   ]
  },
  {
   "cell_type": "code",
   "execution_count": 4,
   "id": "cfdf88f3-6419-405c-b902-5cb5cf4d73f8",
   "metadata": {},
   "outputs": [],
   "source": [
    "def best_first_search(start):\n",
    "    visited = set()\n",
    "    pq = []\n",
    "    counter = count()  # unique tie-breaker\n",
    "    heapq.heappush(pq, (heuristic(start), next(counter), [start]))\n",
    "\n",
    "    while pq:\n",
    "        _, _, path = heapq.heappop(pq)\n",
    "        current = path[-1]\n",
    "\n",
    "        if current.goalTest():\n",
    "            return len(path), [(s.row, s.col) for s in path]\n",
    "\n",
    "        if current not in visited:\n",
    "            visited.add(current)\n",
    "            for child in current.moveGen():\n",
    "                if child not in visited:\n",
    "                    heapq.heappush(pq, (heuristic(child), next(counter), path + [child]))\n",
    "    return None, None"
   ]
  },
  {
   "cell_type": "code",
   "execution_count": 5,
   "id": "15a13672-4b3c-473e-a6d8-0edd400357eb",
   "metadata": {},
   "outputs": [],
   "source": [
    "def a_star_search(start):\n",
    "    visited = set()\n",
    "    pq = []\n",
    "    counter = count()\n",
    "    heapq.heappush(pq, (heuristic(start), next(counter), 0, [start]))\n",
    "\n",
    "    while pq:\n",
    "        _, _, g, path = heapq.heappop(pq)\n",
    "        current = path[-1]\n",
    "\n",
    "        if current.goalTest():\n",
    "            return len(path), [(s.row, s.col) for s in path]\n",
    "\n",
    "        if current not in visited:\n",
    "            visited.add(current)\n",
    "            for child in current.moveGen():\n",
    "                if child not in visited:\n",
    "                    new_g = g + 1\n",
    "                    f = new_g + heuristic(child)\n",
    "                    heapq.heappush(pq, (f, next(counter), new_g, path + [child]))\n",
    "    return None, None\n"
   ]
  },
  {
   "cell_type": "code",
   "execution_count": 6,
   "id": "c1811108-453f-4490-a96f-f97c342561d1",
   "metadata": {},
   "outputs": [
    {
     "name": "stdout",
     "output_type": "stream",
     "text": [
      "\n",
      "Example 1:\n",
      "  Best First Search → Path length: 2, Path: [(0, 0), (1, 1)]\n",
      "  A* Search         → Path length: 2, Path: [(0, 0), (1, 1)]\n",
      "\n",
      "Example 2:\n",
      "  Best First Search → Path length: 4, Path: [(0, 0), (0, 1), (1, 2), (2, 2)]\n",
      "  A* Search         → Path length: 4, Path: [(0, 0), (0, 1), (1, 2), (2, 2)]\n",
      "\n",
      "Example 3:\n",
      "  Best First Search → Path length: 4, Path: [(0, 0), (0, 1), (1, 2), (2, 2)]\n",
      "  A* Search         → Path length: 4, Path: [(0, 0), (0, 1), (1, 2), (2, 2)]\n"
     ]
    }
   ],
   "source": [
    "grids = {\n",
    "    \"Example 1\": [[0, 1],\n",
    "                  [1, 0]],\n",
    "    \"Example 2\": [[0, 0, 0],\n",
    "                  [1, 1, 0],\n",
    "                  [1, 1, 0]],\n",
    "    \"Example 3\": [[1, 0, 0],\n",
    "                  [1, 1, 0],\n",
    "                  [1, 1, 0]]\n",
    "}\n",
    "\n",
    "for name, grid in grids.items():\n",
    "    print(f\"\\n{name}:\")\n",
    "    bfs_len, bfs_path = best_first_search(State(0,0,grid))\n",
    "    astar_len, astar_path = a_star_search(State(0,0,grid))\n",
    "\n",
    "    print(f\"  Best First Search → Path length: {bfs_len}, Path: {bfs_path}\")\n",
    "    print(f\"  A* Search         → Path length: {astar_len}, Path: {astar_path}\")\n"
   ]
  },
  {
   "cell_type": "raw",
   "id": "e7ca4839-df92-46dd-ad51-79576cfc3377",
   "metadata": {},
   "source": [
    "Best First Search (Greedy Search):\n",
    "Uses only the heuristic to guide exploration toward the goal. It is faster and memory-efficient but not guaranteed to find the shortest path. For some grids, it may even fail to find a path when one exists if it gets “trapped” in a misleading direction.\n",
    "\n",
    "A* Search:\n",
    "Combines both the actual cost (g) and the heuristic (h) → f = g + h. This ensures that it always finds the shortest path if the heuristic is admissible (does not overestimate the distance). It can be slower and require more memory than Best First Search but is optimal and complete.\n",
    "\n",
    "A* search might be complex but it is suitable for getting the shortest path and "
   ]
  }
 ],
 "metadata": {
  "kernelspec": {
   "display_name": "Python 3 (ipykernel)",
   "language": "python",
   "name": "python3"
  },
  "language_info": {
   "codemirror_mode": {
    "name": "ipython",
    "version": 3
   },
   "file_extension": ".py",
   "mimetype": "text/x-python",
   "name": "python",
   "nbconvert_exporter": "python",
   "pygments_lexer": "ipython3",
   "version": "3.12.3"
  }
 },
 "nbformat": 4,
 "nbformat_minor": 5
}
